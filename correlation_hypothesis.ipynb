{
 "cells": [
  {
   "cell_type": "code",
   "execution_count": 3,
   "metadata": {},
   "outputs": [],
   "source": [
    "# Library pengolahan data\n",
    "import pandas as pd\n",
    "import numpy as np\n",
    "\n",
    "# Library visualisasi\n",
    "import matplotlib.pyplot as plt\n",
    "import seaborn as sns\n",
    "import matplotlib.patches as mpatches\n",
    "\n",
    "# load distribution\n",
    "from scipy.stats import binom\n",
    "import scipy.stats as stats\n",
    "from statsmodels.stats.weightstats import ztest as ztest\n",
    "from scipy.stats import ttest_ind\n",
    "import math\n",
    "from statsmodels.stats.proportion import proportions_ztest\n",
    "\n",
    "# ignore warnings\n",
    "import warnings\n",
    "warnings.filterwarnings('ignore')"
   ]
  },
  {
   "cell_type": "code",
   "execution_count": 4,
   "metadata": {},
   "outputs": [
    {
     "data": {
      "text/html": [
       "<div>\n",
       "<style scoped>\n",
       "    .dataframe tbody tr th:only-of-type {\n",
       "        vertical-align: middle;\n",
       "    }\n",
       "\n",
       "    .dataframe tbody tr th {\n",
       "        vertical-align: top;\n",
       "    }\n",
       "\n",
       "    .dataframe thead th {\n",
       "        text-align: right;\n",
       "    }\n",
       "</style>\n",
       "<table border=\"1\" class=\"dataframe\">\n",
       "  <thead>\n",
       "    <tr style=\"text-align: right;\">\n",
       "      <th></th>\n",
       "      <th>age</th>\n",
       "      <th>sex</th>\n",
       "      <th>bmi</th>\n",
       "      <th>children</th>\n",
       "      <th>smoker</th>\n",
       "      <th>region</th>\n",
       "      <th>charges</th>\n",
       "      <th>kategori</th>\n",
       "    </tr>\n",
       "  </thead>\n",
       "  <tbody>\n",
       "    <tr>\n",
       "      <th>0</th>\n",
       "      <td>19</td>\n",
       "      <td>female</td>\n",
       "      <td>27.900</td>\n",
       "      <td>0</td>\n",
       "      <td>yes</td>\n",
       "      <td>southwest</td>\n",
       "      <td>16884.92400</td>\n",
       "      <td>overweight</td>\n",
       "    </tr>\n",
       "    <tr>\n",
       "      <th>1</th>\n",
       "      <td>18</td>\n",
       "      <td>male</td>\n",
       "      <td>33.770</td>\n",
       "      <td>1</td>\n",
       "      <td>no</td>\n",
       "      <td>southeast</td>\n",
       "      <td>1725.55230</td>\n",
       "      <td>obese</td>\n",
       "    </tr>\n",
       "    <tr>\n",
       "      <th>2</th>\n",
       "      <td>28</td>\n",
       "      <td>male</td>\n",
       "      <td>33.000</td>\n",
       "      <td>3</td>\n",
       "      <td>no</td>\n",
       "      <td>southeast</td>\n",
       "      <td>4449.46200</td>\n",
       "      <td>obese</td>\n",
       "    </tr>\n",
       "    <tr>\n",
       "      <th>3</th>\n",
       "      <td>33</td>\n",
       "      <td>male</td>\n",
       "      <td>22.705</td>\n",
       "      <td>0</td>\n",
       "      <td>no</td>\n",
       "      <td>northwest</td>\n",
       "      <td>21984.47061</td>\n",
       "      <td>healthy</td>\n",
       "    </tr>\n",
       "    <tr>\n",
       "      <th>4</th>\n",
       "      <td>32</td>\n",
       "      <td>male</td>\n",
       "      <td>28.880</td>\n",
       "      <td>0</td>\n",
       "      <td>no</td>\n",
       "      <td>northwest</td>\n",
       "      <td>3866.85520</td>\n",
       "      <td>overweight</td>\n",
       "    </tr>\n",
       "  </tbody>\n",
       "</table>\n",
       "</div>"
      ],
      "text/plain": [
       "   age     sex     bmi  children smoker     region      charges    kategori\n",
       "0   19  female  27.900         0    yes  southwest  16884.92400  overweight\n",
       "1   18    male  33.770         1     no  southeast   1725.55230       obese\n",
       "2   28    male  33.000         3     no  southeast   4449.46200       obese\n",
       "3   33    male  22.705         0     no  northwest  21984.47061     healthy\n",
       "4   32    male  28.880         0     no  northwest   3866.85520  overweight"
      ]
     },
     "execution_count": 4,
     "metadata": {},
     "output_type": "execute_result"
    }
   ],
   "source": [
    "data = pd.read_csv(\"insurance.csv\")\n",
    "\n",
    "#new dataset with BMI type\n",
    "bmi_condition = [data['bmi'] < 18.5, data['bmi'] < 25, data['bmi'] < 30, data['bmi'] >= 30]\n",
    "category = [\"underweight\", \"healthy\", \"overweight\", \"obese\"]\n",
    "\n",
    "data['kategori'] = np.select(bmi_condition, category)\n",
    "data.head()"
   ]
  },
  {
   "attachments": {},
   "cell_type": "markdown",
   "metadata": {},
   "source": [
    "### **Correlation**\n",
    "**1. Korelasi BMI dengan tanggungan anak**"
   ]
  },
  {
   "cell_type": "code",
   "execution_count": 5,
   "metadata": {},
   "outputs": [
    {
     "data": {
      "text/plain": [
       "array([[37.18788361,  0.09379476],\n",
       "       [ 0.09379476,  1.45321275]])"
      ]
     },
     "execution_count": 5,
     "metadata": {},
     "output_type": "execute_result"
    }
   ],
   "source": [
    "# Kovarians bmi dengan tanggungan anak\n",
    "np.cov(data['bmi'], data['children'])"
   ]
  },
  {
   "cell_type": "code",
   "execution_count": 6,
   "metadata": {},
   "outputs": [
    {
     "data": {
      "text/html": [
       "<div>\n",
       "<style scoped>\n",
       "    .dataframe tbody tr th:only-of-type {\n",
       "        vertical-align: middle;\n",
       "    }\n",
       "\n",
       "    .dataframe tbody tr th {\n",
       "        vertical-align: top;\n",
       "    }\n",
       "\n",
       "    .dataframe thead th {\n",
       "        text-align: right;\n",
       "    }\n",
       "</style>\n",
       "<table border=\"1\" class=\"dataframe\">\n",
       "  <thead>\n",
       "    <tr style=\"text-align: right;\">\n",
       "      <th></th>\n",
       "      <th>bmi</th>\n",
       "      <th>children</th>\n",
       "    </tr>\n",
       "  </thead>\n",
       "  <tbody>\n",
       "    <tr>\n",
       "      <th>bmi</th>\n",
       "      <td>1.000000</td>\n",
       "      <td>0.012759</td>\n",
       "    </tr>\n",
       "    <tr>\n",
       "      <th>children</th>\n",
       "      <td>0.012759</td>\n",
       "      <td>1.000000</td>\n",
       "    </tr>\n",
       "  </tbody>\n",
       "</table>\n",
       "</div>"
      ],
      "text/plain": [
       "               bmi  children\n",
       "bmi       1.000000  0.012759\n",
       "children  0.012759  1.000000"
      ]
     },
     "execution_count": 6,
     "metadata": {},
     "output_type": "execute_result"
    }
   ],
   "source": [
    "# Korelasi bmi dengan tanggungan anak\n",
    "data[['bmi', 'children']].corr()"
   ]
  },
  {
   "attachments": {},
   "cell_type": "markdown",
   "metadata": {},
   "source": [
    "**2. Korelasi BMI dengan tagihan**"
   ]
  },
  {
   "cell_type": "code",
   "execution_count": 7,
   "metadata": {},
   "outputs": [
    {
     "data": {
      "text/plain": [
       "array([[3.71878836e+01, 1.46473044e+04],\n",
       "       [1.46473044e+04, 1.46652372e+08]])"
      ]
     },
     "execution_count": 7,
     "metadata": {},
     "output_type": "execute_result"
    }
   ],
   "source": [
    "# Kovarians bmi dengan tagihan\n",
    "np.cov(data['bmi'], data['charges'])"
   ]
  },
  {
   "cell_type": "code",
   "execution_count": 8,
   "metadata": {},
   "outputs": [
    {
     "data": {
      "text/html": [
       "<div>\n",
       "<style scoped>\n",
       "    .dataframe tbody tr th:only-of-type {\n",
       "        vertical-align: middle;\n",
       "    }\n",
       "\n",
       "    .dataframe tbody tr th {\n",
       "        vertical-align: top;\n",
       "    }\n",
       "\n",
       "    .dataframe thead th {\n",
       "        text-align: right;\n",
       "    }\n",
       "</style>\n",
       "<table border=\"1\" class=\"dataframe\">\n",
       "  <thead>\n",
       "    <tr style=\"text-align: right;\">\n",
       "      <th></th>\n",
       "      <th>bmi</th>\n",
       "      <th>charges</th>\n",
       "    </tr>\n",
       "  </thead>\n",
       "  <tbody>\n",
       "    <tr>\n",
       "      <th>bmi</th>\n",
       "      <td>1.000000</td>\n",
       "      <td>0.198341</td>\n",
       "    </tr>\n",
       "    <tr>\n",
       "      <th>charges</th>\n",
       "      <td>0.198341</td>\n",
       "      <td>1.000000</td>\n",
       "    </tr>\n",
       "  </tbody>\n",
       "</table>\n",
       "</div>"
      ],
      "text/plain": [
       "              bmi   charges\n",
       "bmi      1.000000  0.198341\n",
       "charges  0.198341  1.000000"
      ]
     },
     "execution_count": 8,
     "metadata": {},
     "output_type": "execute_result"
    }
   ],
   "source": [
    "# Korelasi bmi dengan tagihan\n",
    "data[['bmi', 'charges']].corr()"
   ]
  },
  {
   "attachments": {},
   "cell_type": "markdown",
   "metadata": {},
   "source": [
    "**3. Tabel korelasi semua variabel numerik**"
   ]
  },
  {
   "cell_type": "code",
   "execution_count": 9,
   "metadata": {},
   "outputs": [
    {
     "data": {
      "text/html": [
       "<div>\n",
       "<style scoped>\n",
       "    .dataframe tbody tr th:only-of-type {\n",
       "        vertical-align: middle;\n",
       "    }\n",
       "\n",
       "    .dataframe tbody tr th {\n",
       "        vertical-align: top;\n",
       "    }\n",
       "\n",
       "    .dataframe thead th {\n",
       "        text-align: right;\n",
       "    }\n",
       "</style>\n",
       "<table border=\"1\" class=\"dataframe\">\n",
       "  <thead>\n",
       "    <tr style=\"text-align: right;\">\n",
       "      <th></th>\n",
       "      <th>age</th>\n",
       "      <th>bmi</th>\n",
       "      <th>children</th>\n",
       "      <th>charges</th>\n",
       "    </tr>\n",
       "  </thead>\n",
       "  <tbody>\n",
       "    <tr>\n",
       "      <th>age</th>\n",
       "      <td>1.00</td>\n",
       "      <td>0.11</td>\n",
       "      <td>0.04</td>\n",
       "      <td>0.30</td>\n",
       "    </tr>\n",
       "    <tr>\n",
       "      <th>bmi</th>\n",
       "      <td>0.11</td>\n",
       "      <td>1.00</td>\n",
       "      <td>0.01</td>\n",
       "      <td>0.20</td>\n",
       "    </tr>\n",
       "    <tr>\n",
       "      <th>children</th>\n",
       "      <td>0.04</td>\n",
       "      <td>0.01</td>\n",
       "      <td>1.00</td>\n",
       "      <td>0.07</td>\n",
       "    </tr>\n",
       "    <tr>\n",
       "      <th>charges</th>\n",
       "      <td>0.30</td>\n",
       "      <td>0.20</td>\n",
       "      <td>0.07</td>\n",
       "      <td>1.00</td>\n",
       "    </tr>\n",
       "  </tbody>\n",
       "</table>\n",
       "</div>"
      ],
      "text/plain": [
       "           age   bmi  children  charges\n",
       "age       1.00  0.11      0.04     0.30\n",
       "bmi       0.11  1.00      0.01     0.20\n",
       "children  0.04  0.01      1.00     0.07\n",
       "charges   0.30  0.20      0.07     1.00"
      ]
     },
     "execution_count": 9,
     "metadata": {},
     "output_type": "execute_result"
    }
   ],
   "source": [
    "# Semua korelasi antar variabel\n",
    "all_correlation = data.corr(method=\"pearson\")\n",
    "all_correlation.round(2)"
   ]
  },
  {
   "cell_type": "code",
   "execution_count": 10,
   "metadata": {},
   "outputs": [
    {
     "data": {
      "text/plain": [
       "<AxesSubplot:xlabel='bmi', ylabel='charges'>"
      ]
     },
     "execution_count": 10,
     "metadata": {},
     "output_type": "execute_result"
    },
    {
     "data": {
      "image/png": "[encoded data removed]",
      "text/plain": [
       "<Figure size 1400x600 with 2 Axes>"
      ]
     },
     "metadata": {},
     "output_type": "display_data"
    }
   ],
   "source": [
    "# Visualisasi korelasi [usia/bmi] dengan tagihan\n",
    "fig, ax = plt.subplots(nrows = 1, ncols = 2, figsize = (14, 6))\n",
    "\n",
    "sns.scatterplot(data=data, x=\"age\", y=\"charges\",ax = ax[0])\n",
    "\n",
    "sns.scatterplot(data=data, x=\"bmi\", y=\"charges\",ax = ax[1])"
   ]
  },
  {
   "cell_type": "code",
   "execution_count": 11,
   "metadata": {},
   "outputs": [
    {
     "data": {
      "text/plain": [
       "<AxesSubplot:xlabel='children', ylabel='charges'>"
      ]
     },
     "execution_count": 11,
     "metadata": {},
     "output_type": "execute_result"
    },
    {
     "data": {
      "image/png": "[encoded data removed]",
      "text/plain": [
       "<Figure size 640x480 with 1 Axes>"
      ]
     },
     "metadata": {},
     "output_type": "display_data"
    }
   ],
   "source": [
    "# Visualisasi korelasi children dengan tagihan\n",
    "sns.scatterplot(data=data, x=\"children\", y=\"charges\")"
   ]
  },
  {
   "attachments": {},
   "cell_type": "markdown",
   "metadata": {},
   "source": [
    "### **Hypothesis Testing 1**\n",
    "\n",
    "1. Hipotesis #1: Variansi tagihan perokok sama dengan tagihan non-perokok"
   ]
  },
  {
   "attachments": {},
   "cell_type": "markdown",
   "metadata": {},
   "source": [
    "H(0): Tagihan perokok = tagihan non-perokok\n",
    "<br>\n",
    "H(1): Tagihan perokok =/= tagihan non-perokok \n",
    "<br>\n",
    "tingkat signifikansi: 0.05"
   ]
  },
  {
   "cell_type": "code",
   "execution_count": 12,
   "metadata": {},
   "outputs": [],
   "source": [
    "alpha = 0.05"
   ]
  },
  {
   "attachments": {},
   "cell_type": "markdown",
   "metadata": {},
   "source": [
    "2. Statistik Uji"
   ]
  },
  {
   "cell_type": "code",
   "execution_count": 13,
   "metadata": {},
   "outputs": [
    {
     "data": {
      "text/html": [
       "<div>\n",
       "<style scoped>\n",
       "    .dataframe tbody tr th:only-of-type {\n",
       "        vertical-align: middle;\n",
       "    }\n",
       "\n",
       "    .dataframe tbody tr th {\n",
       "        vertical-align: top;\n",
       "    }\n",
       "\n",
       "    .dataframe thead tr th {\n",
       "        text-align: left;\n",
       "    }\n",
       "\n",
       "    .dataframe thead tr:last-of-type th {\n",
       "        text-align: right;\n",
       "    }\n",
       "</style>\n",
       "<table border=\"1\" class=\"dataframe\">\n",
       "  <thead>\n",
       "    <tr>\n",
       "      <th></th>\n",
       "      <th colspan=\"4\" halign=\"left\">charges</th>\n",
       "    </tr>\n",
       "    <tr>\n",
       "      <th></th>\n",
       "      <th>mean</th>\n",
       "      <th>var</th>\n",
       "      <th>std</th>\n",
       "      <th>count</th>\n",
       "    </tr>\n",
       "    <tr>\n",
       "      <th>smoker</th>\n",
       "      <th></th>\n",
       "      <th></th>\n",
       "      <th></th>\n",
       "      <th></th>\n",
       "    </tr>\n",
       "  </thead>\n",
       "  <tbody>\n",
       "    <tr>\n",
       "      <th>no</th>\n",
       "      <td>8434.0</td>\n",
       "      <td>35925420.0</td>\n",
       "      <td>5994.0</td>\n",
       "      <td>1064</td>\n",
       "    </tr>\n",
       "    <tr>\n",
       "      <th>yes</th>\n",
       "      <td>32050.0</td>\n",
       "      <td>133207311.0</td>\n",
       "      <td>11542.0</td>\n",
       "      <td>274</td>\n",
       "    </tr>\n",
       "  </tbody>\n",
       "</table>\n",
       "</div>"
      ],
      "text/plain": [
       "        charges                            \n",
       "           mean          var      std count\n",
       "smoker                                     \n",
       "no       8434.0   35925420.0   5994.0  1064\n",
       "yes     32050.0  133207311.0  11542.0   274"
      ]
     },
     "execution_count": 13,
     "metadata": {},
     "output_type": "execute_result"
    }
   ],
   "source": [
    "# cek variansi smoker vs non smoker\n",
    "check_var = pd.DataFrame(data.groupby(['smoker']).agg({'charges':['mean','var','std','count']}).round())\n",
    "check_var"
   ]
  },
  {
   "cell_type": "code",
   "execution_count": 14,
   "metadata": {},
   "outputs": [],
   "source": [
    "# grup 1 = smoker\n",
    "# grup 2 = non smoker\n",
    "rataan1 = 32050\n",
    "rataan2 = 8434\n",
    "\n",
    "# Menentukan sample variance\n",
    "s_x = 133207311 \n",
    "s_y = 35925420\n",
    "\n",
    "# Ukuran sampel dua kelompok\n",
    "sample1 = 274\n",
    "sample2 = 1064\n",
    "\n",
    "#derajat kebebasan\n",
    "df1 = 274 -1\n",
    "df2 = 1064 - 1"
   ]
  },
  {
   "cell_type": "code",
   "execution_count": 15,
   "metadata": {},
   "outputs": [
    {
     "name": "stdout",
     "output_type": "stream",
     "text": [
      "3.71\n",
      "Dari program di atas hasil uji statistik adalah :  3.71\n"
     ]
    }
   ],
   "source": [
    "# Hitung uji statistik\n",
    "# s_x menjadi pembilang karena lebih besar\n",
    "f_test=round(s_x/s_y, 2)\n",
    "\n",
    "print(f_test)\n",
    "print(\"Dari program di atas hasil uji statistik adalah : \", f_test)"
   ]
  },
  {
   "cell_type": "code",
   "execution_count": 16,
   "metadata": {},
   "outputs": [
    {
     "name": "stdout",
     "output_type": "stream",
     "text": [
      "1.17\n",
      "Dengan nilai uji statistik(f-test): 3.71  dan nilai f_crit: 1.17\n"
     ]
    }
   ],
   "source": [
    "# Nilai Critical Value berdasarkan critical f-value dari f-table dengan nilai alpha 0.05\n",
    "\n",
    "f_crit=round(stats.f.ppf(1-0.05, df1, df2), 2)\n",
    "print(f_crit)\n",
    "print(\"Dengan nilai uji statistik(f-test):\", f_test,\" dan nilai f_crit:\", f_crit)"
   ]
  },
  {
   "attachments": {},
   "cell_type": "markdown",
   "metadata": {},
   "source": [
    "3. Aturan Keputusan\n",
    "\n",
    "Uji pihak kanan, tolak H(0) jika Uji Statistik > Nilai Kritis atau P-value < 0.05"
   ]
  },
  {
   "cell_type": "code",
   "execution_count": 81,
   "metadata": {},
   "outputs": [
    {
     "name": "stdout",
     "output_type": "stream",
     "text": [
      "Tolak null hypothesis di taraf signifikansi 5% karena F > 1.17 (F=3.71)\n",
      "Varians tagihan perokok tidak sama dengan non-perokok\n"
     ]
    }
   ],
   "source": [
    "# Menentukan aturan keputusan\n",
    "if f_test>f_crit:\n",
    "  print(f\"Tolak null hypothesis di taraf signifikansi 5% karena F > {f_crit} (F={f_test})\")\n",
    "  print('Varians tagihan perokok tidak sama dengan non-perokok')\n",
    "else:\n",
    "  print(f\"Gagal tolak null hypothesis di taraf signifikansi 5% karena F < {f_crit} (F={f_test})\")\n",
    "  print('Variansi tagihan perokok sama dengan non-perokok')"
   ]
  },
  {
   "attachments": {},
   "cell_type": "markdown",
   "metadata": {},
   "source": [
    "### **Hypothesis Testing 2**\n",
    "\n",
    "1. Hipotesis #2: Proporsi perokok laki-laki lebih besar daripada proporsi perempuan\n",
    "\n",
    "H(0): Proporsi perokok laki-laki = perokok perempuan\n",
    "<br>\n",
    "H(1): Proporsi perokok laki-laki > perokok perempuan\n",
    "<br>\n",
    "tingkat signifikansi: 0.05"
   ]
  },
  {
   "attachments": {},
   "cell_type": "markdown",
   "metadata": {},
   "source": [
    "2. Uji Statistik"
   ]
  },
  {
   "cell_type": "code",
   "execution_count": 33,
   "metadata": {},
   "outputs": [
    {
     "data": {
      "text/html": [
       "<div>\n",
       "<style scoped>\n",
       "    .dataframe tbody tr th:only-of-type {\n",
       "        vertical-align: middle;\n",
       "    }\n",
       "\n",
       "    .dataframe tbody tr th {\n",
       "        vertical-align: top;\n",
       "    }\n",
       "\n",
       "    .dataframe thead th {\n",
       "        text-align: right;\n",
       "    }\n",
       "</style>\n",
       "<table border=\"1\" class=\"dataframe\">\n",
       "  <thead>\n",
       "    <tr style=\"text-align: right;\">\n",
       "      <th></th>\n",
       "      <th>smoker</th>\n",
       "      <th>percentage</th>\n",
       "    </tr>\n",
       "    <tr>\n",
       "      <th>sex</th>\n",
       "      <th></th>\n",
       "      <th></th>\n",
       "    </tr>\n",
       "  </thead>\n",
       "  <tbody>\n",
       "    <tr>\n",
       "      <th>female</th>\n",
       "      <td>115</td>\n",
       "      <td>42.0</td>\n",
       "    </tr>\n",
       "    <tr>\n",
       "      <th>male</th>\n",
       "      <td>159</td>\n",
       "      <td>58.0</td>\n",
       "    </tr>\n",
       "  </tbody>\n",
       "</table>\n",
       "</div>"
      ],
      "text/plain": [
       "        smoker  percentage\n",
       "sex                       \n",
       "female     115        42.0\n",
       "male       159        58.0"
      ]
     },
     "execution_count": 33,
     "metadata": {},
     "output_type": "execute_result"
    }
   ],
   "source": [
    "# Proporsi perokok laki2 vs perempuan\n",
    "smoker_gender = data[data.smoker=='yes'].groupby(['sex'])['smoker'].agg('count').round(1)\n",
    "smoker_gender = smoker_gender.to_frame()\n",
    "smoker_gender['percentage'] = 100 * smoker_gender['smoker'] / 274\n",
    "smoker_gender = smoker_gender.round(1)\n",
    "\n",
    "smoker_gender"
   ]
  },
  {
   "cell_type": "code",
   "execution_count": 87,
   "metadata": {},
   "outputs": [],
   "source": [
    "# Menentukan jumlah kejadian ukuran sampel (n), proporsi pada null hypothesis, dan proporsi sample\n",
    "n = 274\n",
    "p = 0.50\n",
    "p_hat = 159/274"
   ]
  },
  {
   "cell_type": "code",
   "execution_count": 88,
   "metadata": {},
   "outputs": [
    {
     "name": "stdout",
     "output_type": "stream",
     "text": [
      "2.658137210652779\n",
      "Dari program di atas hasil uji statistik adalah :  2.658137210652779\n"
     ]
    }
   ],
   "source": [
    "# Hitung uji statistik\n",
    "test_stat=(p_hat-p)/(math.sqrt((p*(1-p))/(n)))\n",
    "print(test_stat)\n",
    "\n",
    "#Interpretasi hasil\n",
    "print(\"Dari program di atas hasil uji statistik adalah : \", test_stat)"
   ]
  },
  {
   "cell_type": "code",
   "execution_count": 89,
   "metadata": {},
   "outputs": [
    {
     "name": "stdout",
     "output_type": "stream",
     "text": [
      "1.6448536269514722\n",
      "Dengan nilai uji statistik 2.658137210652779  dan nilai z_crit 1.6448536269514722\n"
     ]
    }
   ],
   "source": [
    "# Nilai Critical Value berdasarkan critical Z-value dari Z-table dengan nilai alpha 0.05\n",
    "#Import package\n",
    "z_crit=stats.norm.ppf(1-0.05)  # right-tailed test\n",
    "print(z_crit)\n",
    "\n",
    "#Interpretasi hasil\n",
    "print(\"Dengan nilai uji statistik\", test_stat,\" dan nilai z_crit\", stats.norm.ppf(1-0.05) )"
   ]
  },
  {
   "attachments": {},
   "cell_type": "markdown",
   "metadata": {},
   "source": [
    "3. Aturan Keputusan\n",
    "\n",
    "Uji pihak kanan, tolak H(0) jika Uji Statistik > Nilai Kritis atau P-value < 0.05"
   ]
  },
  {
   "cell_type": "code",
   "execution_count": 90,
   "metadata": {},
   "outputs": [
    {
     "name": "stdout",
     "output_type": "stream",
     "text": [
      "Tolak null hypothesis di taraf signifikansi 5% karena Z > 1.64 (Z = 2.66)\n",
      "Proporsi perokok laki-laki lebih besar dari proporsi perokok perempuan\n"
     ]
    }
   ],
   "source": [
    "# Menentukan aturan keputusan\n",
    "if test_stat>z_crit:\n",
    "    print(f\"Tolak null hypothesis di taraf signifikansi 5% karena Z > {z_crit:.2f} (Z = {test_stat:.2f})\")\n",
    "    print('Proporsi perokok laki-laki lebih besar dari proporsi perokok perempuan')\n",
    "else:\n",
    "    print(\"Gagal tolak null hypothesis di taraf signifikansi 5% karena Z < {z_crit:.2f} (Z = {test_stat:.2f})\")\n",
    "    print(\"Proporsi perokok laki-laki sama dengan proporsi perokok perempuan\")"
   ]
  },
  {
   "attachments": {},
   "cell_type": "markdown",
   "metadata": {},
   "source": [
    "### **Hypothesis Testing 3**\n",
    "\n",
    "1. Hipotesis #3: Tagihan perokok lebih besar dari non-perokok\n",
    "\n",
    "H(0): Tagihan perokok = non-perokok\n",
    "<br>\n",
    "H(1): Tagihan perokok > non-perokok\n",
    "<br>\n",
    "tingkat signifikansi: 0.05"
   ]
  },
  {
   "cell_type": "code",
   "execution_count": 54,
   "metadata": {},
   "outputs": [
    {
     "data": {
      "text/html": [
       "<div>\n",
       "<style scoped>\n",
       "    .dataframe tbody tr th:only-of-type {\n",
       "        vertical-align: middle;\n",
       "    }\n",
       "\n",
       "    .dataframe tbody tr th {\n",
       "        vertical-align: top;\n",
       "    }\n",
       "\n",
       "    .dataframe thead tr th {\n",
       "        text-align: left;\n",
       "    }\n",
       "\n",
       "    .dataframe thead tr:last-of-type th {\n",
       "        text-align: right;\n",
       "    }\n",
       "</style>\n",
       "<table border=\"1\" class=\"dataframe\">\n",
       "  <thead>\n",
       "    <tr>\n",
       "      <th></th>\n",
       "      <th colspan=\"4\" halign=\"left\">charges</th>\n",
       "    </tr>\n",
       "    <tr>\n",
       "      <th></th>\n",
       "      <th>mean</th>\n",
       "      <th>var</th>\n",
       "      <th>std</th>\n",
       "      <th>count</th>\n",
       "    </tr>\n",
       "    <tr>\n",
       "      <th>smoker</th>\n",
       "      <th></th>\n",
       "      <th></th>\n",
       "      <th></th>\n",
       "      <th></th>\n",
       "    </tr>\n",
       "  </thead>\n",
       "  <tbody>\n",
       "    <tr>\n",
       "      <th>no</th>\n",
       "      <td>8434.0</td>\n",
       "      <td>35925420.0</td>\n",
       "      <td>5994.0</td>\n",
       "      <td>1064</td>\n",
       "    </tr>\n",
       "    <tr>\n",
       "      <th>yes</th>\n",
       "      <td>32050.0</td>\n",
       "      <td>133207311.0</td>\n",
       "      <td>11542.0</td>\n",
       "      <td>274</td>\n",
       "    </tr>\n",
       "  </tbody>\n",
       "</table>\n",
       "</div>"
      ],
      "text/plain": [
       "        charges                            \n",
       "           mean          var      std count\n",
       "smoker                                     \n",
       "no       8434.0   35925420.0   5994.0  1064\n",
       "yes     32050.0  133207311.0  11542.0   274"
      ]
     },
     "execution_count": 54,
     "metadata": {},
     "output_type": "execute_result"
    }
   ],
   "source": [
    "# cek variansi smoker vs non smoker\n",
    "check_var = pd.DataFrame(data.groupby(['smoker']).agg({'charges':['mean','var','std','count']}).round())\n",
    "check_var"
   ]
  },
  {
   "attachments": {},
   "cell_type": "markdown",
   "metadata": {},
   "source": [
    "2. Uji Statistik"
   ]
  },
  {
   "cell_type": "code",
   "execution_count": 93,
   "metadata": {},
   "outputs": [],
   "source": [
    "smoker_array = np.array(data[data.smoker =='yes'].charges)\n",
    "non_smoker_array = np.array(data[data.smoker =='no'].charges)"
   ]
  },
  {
   "cell_type": "code",
   "execution_count": 95,
   "metadata": {},
   "outputs": [
    {
     "name": "stdout",
     "output_type": "stream",
     "text": [
      "2.94473222335849e-103\n",
      "Statistics = 32.7519, p-value = 0.0000\n"
     ]
    }
   ],
   "source": [
    "stat, p = ttest_ind(a = smoker_array, b = non_smoker_array, equal_var=False, alternative='greater') # equal_var= False karena varians kedua populasi berbeda\n",
    "\n",
    "# Interpretasi Hasil\n",
    "print(p)\n",
    "print('Statistics = %.4f, p-value = %.4f' % (stat, p)) "
   ]
  },
  {
   "attachments": {},
   "cell_type": "markdown",
   "metadata": {},
   "source": [
    "3. Aturan Keputusan\n",
    "Uji pihak kanan, tolak H(0) jika Uji Statistik > Nilai Kritis atau P-value < 0.05"
   ]
  },
  {
   "cell_type": "code",
   "execution_count": 74,
   "metadata": {},
   "outputs": [
    {
     "name": "stdout",
     "output_type": "stream",
     "text": [
      "Tolak null hypothesis di taraf signifikansi 5% karena P-value < 0.05 (P = 0.00)\n",
      "Tagihan perokok lebih besar dari perokok\n"
     ]
    }
   ],
   "source": [
    "# Pengambilan Keputusan\n",
    "if p > alpha:\n",
    "    print(f'Gagal tolak null hypothesis di taraf signifikansi 5% karena P-value > {alpha} (P = {p:.2f})')\n",
    "    print('Tagihan perokok sama dengan non-perokok') \n",
    "else:\n",
    "    print(f'Tolak null hypothesis di taraf signifikansi 5% karena P-value < {alpha} (P = {p:.2f})')\n",
    "    print('Tagihan perokok lebih besar dari perokok')"
   ]
  },
  {
   "cell_type": "code",
   "execution_count": 78,
   "metadata": {},
   "outputs": [
    {
     "name": "stdout",
     "output_type": "stream",
     "text": [
      "Statistics = 32.7519, p-value = 0.0000\n"
     ]
    }
   ],
   "source": [
    " "
   ]
  }
 ],
 "metadata": {
  "kernelspec": {
   "display_name": "base",
   "language": "python",
   "name": "python3"
  },
  "language_info": {
   "codemirror_mode": {
    "name": "ipython",
    "version": 3
   },
   "file_extension": ".py",
   "mimetype": "text/x-python",
   "name": "python",
   "nbconvert_exporter": "python",
   "pygments_lexer": "ipython3",
   "version": "3.9.13"
  },
  "orig_nbformat": 4
 },
 "nbformat": 4,
 "nbformat_minor": 2
}
